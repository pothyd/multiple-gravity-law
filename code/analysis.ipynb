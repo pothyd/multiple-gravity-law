{
 "cells": [
  {
   "cell_type": "code",
   "execution_count": 1,
   "metadata": {},
   "outputs": [],
   "source": [
    "import numpy as np\n",
    "import pandas as pd\n",
    "\n",
    "import statsmodels.api as sm\n",
    "\n",
    "import matplotlib.pyplot as plt\n",
    "import seaborn as sns\n",
    "\n",
    "import gravity_model as gm"
   ]
  },
  {
   "cell_type": "code",
   "execution_count": 2,
   "metadata": {},
   "outputs": [],
   "source": [
    "# Configurations\n",
    "\n",
    "# Mobility dataset is available on Figshare:\n",
    "# https://figshare.com/projects/Multiple_gravity_laws_for_human_mobility_within_cities/166745\n",
    "# Set data directory\n",
    "data_dir = \"/data02/mobility_gravity\" \n",
    "country = \"US\"\n",
    "cities = [\"NYC\", \"LAX\", \"CHI\", \"DAL\", \"HOU\", \"WAS\", \"MIA\", \"PHL\", \"ATL\", \"PHX\", \"BOS\", \"SFR\"]\n",
    "\n",
    "mbins = 10 # number of population bins"
   ]
  },
  {
   "cell_type": "markdown",
   "metadata": {},
   "source": [
    "### Figure 1"
   ]
  },
  {
   "cell_type": "code",
   "execution_count": 3,
   "metadata": {},
   "outputs": [
    {
     "name": "stderr",
     "output_type": "stream",
     "text": [
      "Calculating exponent: 100it [01:18,  1.28it/s]\n"
     ]
    }
   ],
   "source": [
    "city = \"CHI\"\n",
    "\n",
    "# Load model\n",
    "model = gm.gravity_model(data_dir, country, city, cost=\"rij\")\n",
    "model.exponent_matrix(rmin=1, rmax=50, mbins=mbins, rbins=100)\n",
    "\n",
    "mob_data = pd.merge(model.mob_data, model.pop_data.rename(columns={\"id\": \"o\", \"bin\": \"bin_o\"})[[\"o\", \"bin_o\"]], on=\"o\", how=\"left\")\n",
    "mob_data = pd.merge(mob_data, model.pop_data.rename(columns={\"id\": \"d\", \"bin\": \"bin_d\"})[[\"d\", \"bin_d\"]], on=\"d\", how=\"left\")\n",
    "\n",
    "# Figure setting\n",
    "plt.rcParams['font.family'] = 'Arial'\n",
    "plt.rcParams[\"figure.figsize\"] = (7, 7)\n",
    "\n",
    "cmap = plt.cm.Set3"
   ]
  },
  {
   "cell_type": "markdown",
   "metadata": {},
   "source": [
    "### Figure 1(d)\n",
    "Distance exponent estimation for the whole dataset."
   ]
  },
  {
   "cell_type": "code",
   "execution_count": null,
   "metadata": {},
   "outputs": [
    {
     "name": "stderr",
     "output_type": "stream",
     "text": [
      "/home/ohhyun/.pyenv/versions/3.6.8/envs/ohhyun/lib/python3.6/site-packages/seaborn/_decorators.py:43: FutureWarning: Pass the following variable as a keyword arg: y. From version 0.12, the only valid positional argument will be `data`, and passing other arguments without an explicit keyword will result in an error or misinterpretation.\n",
      "  FutureWarning\n"
     ]
    }
   ],
   "source": [
    "data = mob_data.copy()\n",
    "\n",
    "# Data binning\n",
    "x_bin = [\n",
    "    (x1 + x2) / 2\n",
    "    for x1, x2 in zip(model.bin_distance[:-1], model.bin_distance[1:])\n",
    "]\n",
    "\n",
    "y_bin_list = [\n",
    "    [\n",
    "        y_val\n",
    "        for x_val, y_val in zip(data.rij, data.rescaled_tij)\n",
    "        if (x_val >= model.bin_distance[i])\n",
    "        and (x_val < model.bin_distance[i + 1])\n",
    "    ]\n",
    "    for i in range(mbins**2)\n",
    "]\n",
    "x_bin = [x_val for x_val, y_vals in zip(x_bin, y_bin_list) if len(y_vals) != 0]\n",
    "y_bin = [np.mean(y_vals) for y_vals in y_bin_list if len(y_vals) != 0]\n",
    "\n",
    "X_bin = np.array([np.log(x) for x in x_bin]).reshape(-1, 1)\n",
    "Y_bin = np.array([np.log(y) for y in y_bin]).reshape(-1, 1)\n",
    "\n",
    "X = np.log(data.rij)\n",
    "Y = np.log(data.rescaled_tij)\n",
    "\n",
    "X_ = sm.add_constant(X)\n",
    "\n",
    "# OLS linear regression\n",
    "result = sm.OLS(Y, X_).fit()\n",
    "\n",
    "a = result.params[1]\n",
    "b = result.params[0]\n",
    "\n",
    "# Plot result\n",
    "sns.kdeplot(X, Y, alpha=0.7, cmap=\"Greys\", shade=True, thresh=0.3)\n",
    "plt.plot([min(X), max(X)], [a*min(X)+b, a*max(X)+b], c=\"k\", ls=\"--\", alpha=0.5, label=label, linewidth=2)\n",
    "\n",
    "plt.xlabel(\"Distance $r_{ij} (km)$\", fontsize=28)\n",
    "plt.ylabel(\"Rescaled traffic $T_{ij}/T_iT_j$\", fontsize=28)\n",
    "plt.xticks([np.log(2), np.log(3), np.log(4), np.log(5), np.log(6), np.log(7), np.log(8), np.log(9), np.log(10), np.log(20), np.log(30), np.log(40)], \n",
    "           [\"2\", \"\", \"4\", \"\", \"6\", \"\", \"8\", \"\", \"10\", \"20\", \"\", \"40\"], \n",
    "           fontsize=24)\n",
    "plt.yticks([np.log(0.01), np.log(0.001), np.log(0.002), np.log(0.003), np.log(0.004), np.log(0.005), np.log(0.006), np.log(0.007), np.log(0.008), np.log(0.009), np.log(0.0001), np.log(0.0002), np.log(0.0003), np.log(0.0004), np.log(0.0005), np.log(0.0006), np.log(0.0007), np.log(0.0008), np.log(0.0009), np.log(0.00009), np.log(0.00008), np.log(0.00007), np.log(0.00006), np.log(0.00005)], \n",
    "           [\"$10^{-2}$\", \"$10^{-3}$\", \"\", \"\", \"\", \"\", \"\", \"\", \"\", \"\", \"$10^{-4}$\", \"\", \"\", \"\", \"\", \"\", \"\", \"\", \"\", \"\", \"\", \"\", \"\", \"\"], \n",
    "           fontsize=24)\n",
    "plt.ylim([-10, -5.5])\n",
    "\n",
    "plt.show()"
   ]
  },
  {
   "cell_type": "markdown",
   "metadata": {},
   "source": [
    "### Figure 1(e)\n",
    "Distance exponents estimations for different population groups."
   ]
  },
  {
   "cell_type": "code",
   "execution_count": null,
   "metadata": {},
   "outputs": [],
   "source": [
    "# Color palette\n",
    "cmaps_bin = [\"Reds\", \"Oranges\", \"Greens\", \"Blues\", \"Purples\"]\n",
    "cmaps_plot = [\"darkred\", \"sienna\", \"darkolivegreen\", \"darkblue\", \"purple\"]\n",
    "\n",
    "# Estimate gamma for various population groups\n",
    "for n, i in enumerate(range(0, mbins, 2)):\n",
    "    data = mob_data[(mob_data.bin_o == i) & (mob_data.bin_d == i)]\n",
    "    \n",
    "    # Data binning\n",
    "    x_bin = [\n",
    "        (x1 + x2) / 2\n",
    "        for x1, x2 in zip(model.bin_distance[:-1], model.bin_distance[1:])\n",
    "    ]\n",
    "\n",
    "    y_bin_list = [\n",
    "        [\n",
    "            y_val\n",
    "            for x_val, y_val in zip(data.rij, data.rescaled_tij)\n",
    "            if (x_val >= model.bin_distance[i])\n",
    "            and (x_val < model.bin_distance[i + 1])\n",
    "        ]\n",
    "        for i in range(mbins**2)\n",
    "    ]\n",
    "    x_bin = [x_val for x_val, y_vals in zip(x_bin, y_bin_list) if len(y_vals) != 0]\n",
    "    y_bin = [np.mean(y_vals) for y_vals in y_bin_list if len(y_vals) != 0]\n",
    "\n",
    "    X_bin = np.array([np.log(x) for x in x_bin]).reshape(-1, 1)\n",
    "    Y_bin = np.array([np.log(y) for y in y_bin]).reshape(-1, 1)\n",
    "    \n",
    "    X = np.log(data.rij)\n",
    "    Y = np.log(data.rescaled_tij)\n",
    "    \n",
    "    df = pd.DataFrame([X, Y]).T\n",
    "    df[\"bin\"] = i\n",
    "    \n",
    "    X_ = sm.add_constant(X)\n",
    "    \n",
    "    # OLS linear regression\n",
    "    if len(X_) > 0:\n",
    "        result = sm.OLS(Y, X_).fit()\n",
    "\n",
    "        a = result.params[1]\n",
    "        b = result.params[0]\n",
    "    else:\n",
    "        a = 0\n",
    "        b = 0\n",
    "    \n",
    "    # Plot result\n",
    "    label = \"Group {0}\".format(i+1)\n",
    "    sns.kdeplot(X, Y, alpha=0.4, cmap=cmaps_bin[n], shade=True, thresh=0.3)\n",
    "    if a != 0:\n",
    "        plt.plot([min(X), max(X)], [a*min(X)+b, a*max(X)+b], c=cmaps_plot[n], ls=\"--\", alpha=0.5, label=label, linewidth=2)\n",
    "\n",
    "plt.xlabel(\"Distance $r_{ij}$ (km)\", fontsize=28)\n",
    "plt.ylabel(\"Rescaled traffic $T_{ij}/T_iT_j$\", fontsize=28)\n",
    "plt.legend(fontsize=18)\n",
    "plt.legend([\"Group {}\".format(i+1) for i in range(0, mbins, 2)], fontsize=14)\n",
    "plt.xticks([np.log(2), np.log(3), np.log(4), np.log(5), np.log(6), np.log(7), np.log(8), np.log(9), np.log(10), np.log(20), np.log(30), np.log(40)], \n",
    "           [\"2\", \"\", \"4\", \"\", \"6\", \"\", \"8\", \"\", \"10\", \"20\", \"\", \"40\"], \n",
    "           fontsize=24)\n",
    "plt.yticks([np.log(0.01), np.log(0.001), np.log(0.002), np.log(0.003), np.log(0.004), np.log(0.005), np.log(0.006), np.log(0.007), np.log(0.008), np.log(0.009), np.log(0.0001), np.log(0.0002), np.log(0.0003), np.log(0.0004), np.log(0.0005), np.log(0.0006), np.log(0.0007), np.log(0.0008), np.log(0.0009), np.log(0.00009), np.log(0.00008), np.log(0.00007), np.log(0.00006), np.log(0.00005)], \n",
    "           [\"$10^{-2}$\", \"$10^{-3}$\", \"\", \"\", \"\", \"\", \"\", \"\", \"\", \"\", \"$10^{-4}$\", \"\", \"\", \"\", \"\", \"\", \"\", \"\", \"\", \"\", \"\", \"\", \"\", \"\"], \n",
    "           fontsize=24)\n",
    "plt.ylim([-10, -5.5])\n",
    "\n",
    "plt.show()"
   ]
  },
  {
   "cell_type": "markdown",
   "metadata": {},
   "source": [
    "### Figure 2, 5, 6\n",
    "Distance exponent (Figure 2), standard deviation (Figure 5) and average distance (Figure 6) matrices for the twelve most populated cities in the USA."
   ]
  },
  {
   "cell_type": "code",
   "execution_count": null,
   "metadata": {},
   "outputs": [],
   "source": [
    "plt.rcParams['font.family'] = 'Arial'\n",
    "\n",
    "data_cols = [\"gamma\", \"rsq\", \"dist_avg\", \"dist_var\", \"dist_fra\"]\n",
    "\n",
    "figures = {col: plt.subplots(nrows=3, ncols=4, figsize=(40, 21)) for col in data_cols}\n",
    "\n",
    "df_data = pd.DataFrame()\n",
    "\n",
    "# For 12 cities in the USA\n",
    "for i, city in enumerate(cities):\n",
    "    print(city)\n",
    "    \n",
    "    # Load model\n",
    "    model = gm.gravity_model(data_dir, country, city, cost=\"rij\")\n",
    "    \n",
    "    # Single gravity model\n",
    "    model.exponent_matrix(rmin=1, rmax=50, mbins=1, binning=False)\n",
    "    \n",
    "    mono_data = {col: model.matrix[col][0][0] for col in data_cols}\n",
    "    \n",
    "    # Multiple gravity model\n",
    "    model.exponent_matrix(rmin=1, rmax=50, mbins=mbins, binning=False)\n",
    "    \n",
    "    df_data = pd.concat([df_data, pd.DataFrame({\"city\": city, \"gamma\": model.matrix[\"gamma\"].reshape((1,mbins**2))[0], \"rsq\": model.matrix[\"rsq\"].reshape((1,mbins**2))[0]})])\n",
    "\n",
    "    # Plot results\n",
    "    for col in data_cols:\n",
    "        model.plot_matrix(figures[col][0], figures[col][1][int(i/4)][i%4], param=col, ref=mono_data[col])\n",
    "\n",
    "# Set upper and lower triangles (for Figure 3)\n",
    "group_index = list()\n",
    "for i in range(len(cities)):\n",
    "    group_index = group_index + list(np.array([[i + j for i in range(mbins)] for j in range(mbins)]).reshape(1, mbins**2)[0])\n",
    "df_data[\"group\"] = group_index\n",
    "df_data[\"Triangle\"] = [\"Upper\" if r.group >= 10 else \"Lower\" for r in df_data.itertuples()]\n",
    "\n",
    "for f in figures.values():\n",
    "    f[0].show()"
   ]
  },
  {
   "cell_type": "markdown",
   "metadata": {},
   "source": [
    "### Figure 3\n",
    "R2 values in the distance exponent estimation for the twelve most populated cities in the USA."
   ]
  },
  {
   "cell_type": "code",
   "execution_count": null,
   "metadata": {},
   "outputs": [],
   "source": [
    "fig, ax = plt.subplots(nrows = 1, ncols = 2, figsize=(9, 8))\n",
    "\n",
    "sns.boxplot(ax=ax[0], x=\"rsq\", y=\"city\", data=df_data, orient=\"h\", color=\"silver\")\n",
    "for i, single in enumerate(df_data.rsq):\n",
    "    ax[0].vlines(x=single, ymin=i-0.4, ymax=i+0.4, color=\"k\", linewidth=3)\n",
    "ax[0].set_xlabel(\"$R^2$ of exponent estimation\", fontsize=18)\n",
    "ax[0].set_ylabel(\"City\", fontsize=18)\n",
    "ax[0].set_xticks([0, 0.25, 0.5])\n",
    "ax[0].set_xticklabels([0, 0.25, 0.5], fontsize=14)\n",
    "ax[0].set_yticklabels([\"New York City\", \"Los Angeles\", \"Chicago\", \"Dallas\", \"Houston\", \"Washington, D.C.\", \"Miami\", \"Philadelphia\", \"Atlanta\", \"Phoenix\", \"Boston\", \"San Francisco\"], fontsize=14)\n",
    "ax[0].set_xlim([0, 0.7])\n",
    "ax[0].set_ylim([12, -1])\n",
    "\n",
    "sns.boxplot(ax=ax[1], x=\"rsq\", y=\"city\", hue=\"Triangle\", hue_order=[\"Upper\", \"Lower\"], palette=[\"darksalmon\", \"cornflowerblue\"], data=df_data, orient=\"h\")\n",
    "for i, single in enumerate(df_data.rsq):\n",
    "    ax[1].vlines(x=single, ymin=i-0.4, ymax=i+0.4, color=\"k\", linewidth=3)\n",
    "ax[1].set_xlabel(\"\")\n",
    "ax[1].set_ylabel(\"\")\n",
    "ax[1].set_xticks([0, 0.25, 0.5])\n",
    "ax[1].set_xticklabels([0, 0.25, 0.5], fontsize=14)\n",
    "ax[1].set_yticks([])\n",
    "ax[1].set_xlim([0, 0.7])\n",
    "ax[1].set_ylim([12, -1])\n",
    "ax[1].legend(fontsize=12)\n",
    "\n",
    "plt.tight_layout()\n",
    "plt.show()"
   ]
  }
 ],
 "metadata": {
  "kernelspec": {
   "display_name": "Python 3",
   "language": "python",
   "name": "python3"
  },
  "language_info": {
   "codemirror_mode": {
    "name": "ipython",
    "version": 3
   },
   "file_extension": ".py",
   "mimetype": "text/x-python",
   "name": "python",
   "nbconvert_exporter": "python",
   "pygments_lexer": "ipython3",
   "version": "3.6.8"
  }
 },
 "nbformat": 4,
 "nbformat_minor": 4
}
