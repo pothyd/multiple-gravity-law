{
 "cells": [
  {
   "cell_type": "code",
   "execution_count": 1,
   "metadata": {},
   "outputs": [],
   "source": [
    "import numpy as np\n",
    "import pandas as pd\n",
    "\n",
    "import statsmodels.api as sm\n",
    "\n",
    "import matplotlib.pyplot as plt\n",
    "import seaborn as sns\n",
    "\n",
    "import gravity_model as gm"
   ]
  },
  {
   "cell_type": "code",
   "execution_count": 2,
   "metadata": {},
   "outputs": [],
   "source": [
    "# Configurations\n",
    "data_dir = \"data_dir\"\n",
    "country = \"US\"\n",
    "cities = [\"NYC\", \"LAX\", \"CHI\", \"DAL\", \"HOU\", \"WAS\", \"MIA\", \"PHL\", \"ATL\", \"PHX\", \"BOS\", \"SFR\"]"
   ]
  },
  {
   "cell_type": "markdown",
   "metadata": {},
   "source": [
    "### Figure 1"
   ]
  },
  {
   "cell_type": "code",
   "execution_count": 3,
   "metadata": {},
   "outputs": [
    {
     "name": "stderr",
     "output_type": "stream",
     "text": [
      "Calculating exponent: 100it [01:14,  1.35it/s]\n"
     ]
    }
   ],
   "source": [
    "city = \"CHI\"\n",
    "\n",
    "model = gm.gravity_model(data_dir, country, city, cost=\"rij\")\n",
    "model.exponent_matrix(rmin=1, rmax=50, mbins=10, rbins=100, bin_mode=\"equal_mass\")\n",
    "\n",
    "mob_data = pd.merge(model.mob_data, model.pop_data.rename(columns={\"id\": \"o\", \"bin\": \"bin_o\"})[[\"o\", \"bin_o\"]], on=\"o\", how=\"left\")\n",
    "mob_data = pd.merge(mob_data, model.pop_data.rename(columns={\"id\": \"d\", \"bin\": \"bin_d\"})[[\"d\", \"bin_d\"]], on=\"d\", how=\"left\")\n",
    "\n",
    "plt.rcParams['font.family'] = 'Arial'\n",
    "plt.rcParams[\"figure.figsize\"] = (7, 7)\n",
    "\n",
    "cmap = plt.cm.Set3"
   ]
  },
  {
   "cell_type": "markdown",
   "metadata": {},
   "source": [
    "### Figure 1(d)\n",
    "Distance exponent estimation for the whole dataset."
   ]
  },
  {
   "cell_type": "code",
   "execution_count": null,
   "metadata": {},
   "outputs": [
    {
     "name": "stderr",
     "output_type": "stream",
     "text": [
      "/home/ohhyun/.pyenv/versions/3.6.8/envs/ohhyun/lib/python3.6/site-packages/seaborn/_decorators.py:43: FutureWarning: Pass the following variable as a keyword arg: y. From version 0.12, the only valid positional argument will be `data`, and passing other arguments without an explicit keyword will result in an error or misinterpretation.\n",
      "  FutureWarning\n"
     ]
    }
   ],
   "source": [
    "data = mob_data.copy()\n",
    "    \n",
    "x_bin = [\n",
    "    (x1 + x2) / 2\n",
    "    for x1, x2 in zip(model.bin_distance[:-1], model.bin_distance[1:])\n",
    "]\n",
    "\n",
    "y_bin_list = [\n",
    "    [\n",
    "        y_val\n",
    "        for x_val, y_val in zip(data.rij, data.rescaled_tij)\n",
    "        if (x_val >= model.bin_distance[i])\n",
    "        and (x_val < model.bin_distance[i + 1])\n",
    "    ]\n",
    "    for i in range(100)\n",
    "]\n",
    "x_bin = [x_val for x_val, y_vals in zip(x_bin, y_bin_list) if len(y_vals) != 0]\n",
    "y_bin = [np.mean(y_vals) for y_vals in y_bin_list if len(y_vals) != 0]\n",
    "\n",
    "X_bin = np.array([np.log(x) for x in x_bin]).reshape(-1, 1)\n",
    "Y_bin = np.array([np.log(y) for y in y_bin]).reshape(-1, 1)\n",
    "\n",
    "X = np.log(data.rij)\n",
    "Y = np.log(data.rescaled_tij)\n",
    "\n",
    "X_ = sm.add_constant(X)\n",
    "\n",
    "result = sm.OLS(Y, X_).fit()\n",
    "\n",
    "a = result.params[1]\n",
    "b = result.params[0]\n",
    "\n",
    "sns.kdeplot(X, Y, alpha=0.7, cmap=\"Greys\", shade=True, thresh=0.3)\n",
    "plt.plot([min(X), max(X)], [a*min(X)+b, a*max(X)+b], c=\"k\", ls=\"--\", alpha=0.5, label=label, linewidth=2)\n",
    "\n",
    "plt.xlabel(\"Distance $r_{ij} (km)$\", fontsize=28)\n",
    "plt.ylabel(\"Rescaled traffic $T_{ij}/T_iT_j$\", fontsize=28)\n",
    "plt.xticks([np.log(2), np.log(3), np.log(4), np.log(5), np.log(6), np.log(7), np.log(8), np.log(9), np.log(10), np.log(20), np.log(30), np.log(40)], [\"2\", \"\", \"4\", \"\", \"6\", \"\", \"8\", \"\", \"10\", \"20\", \"\", \"40\"], fontsize=24)\n",
    "plt.yticks([np.log(0.01), np.log(0.001), np.log(0.002), np.log(0.003), np.log(0.004), np.log(0.005), np.log(0.006), np.log(0.007), np.log(0.008), np.log(0.009), np.log(0.0001), np.log(0.0002), np.log(0.0003), np.log(0.0004), np.log(0.0005), np.log(0.0006), np.log(0.0007), np.log(0.0008), np.log(0.0009), np.log(0.00009), np.log(0.00008), np.log(0.00007), np.log(0.00006), np.log(0.00005)], [\"$10^{-2}$\", \"$10^{-3}$\", \"\", \"\", \"\", \"\", \"\", \"\", \"\", \"\", \"$10^{-4}$\", \"\", \"\", \"\", \"\", \"\", \"\", \"\", \"\", \"\", \"\", \"\", \"\", \"\"], fontsize=24)\n",
    "plt.ylim([-10, -5.5])\n",
    "\n",
    "plt.show()"
   ]
  },
  {
   "cell_type": "markdown",
   "metadata": {},
   "source": [
    "### Figure 1(e)\n",
    "Distance exponents estimations for different population groups."
   ]
  },
  {
   "cell_type": "code",
   "execution_count": null,
   "metadata": {},
   "outputs": [],
   "source": [
    "cmaps_bin = [\"Reds\", \"Oranges\", \"Greens\", \"Blues\", \"Purples\"]\n",
    "cmaps_plot = [\"darkred\", \"sienna\", \"darkolivegreen\", \"darkblue\", \"purple\"]\n",
    "\n",
    "for n, i in enumerate(range(0, 10, 2)):\n",
    "    data = mob_data[(mob_data.bin_o == i) & (mob_data.bin_d == i)]\n",
    "    \n",
    "    x_bin = [\n",
    "        (x1 + x2) / 2\n",
    "        for x1, x2 in zip(model.bin_distance[:-1], model.bin_distance[1:])\n",
    "    ]\n",
    "\n",
    "    y_bin_list = [\n",
    "        [\n",
    "            y_val\n",
    "            for x_val, y_val in zip(data.rij, data.rescaled_tij)\n",
    "            if (x_val >= model.bin_distance[i])\n",
    "            and (x_val < model.bin_distance[i + 1])\n",
    "        ]\n",
    "        for i in range(100)\n",
    "    ]\n",
    "    x_bin = [x_val for x_val, y_vals in zip(x_bin, y_bin_list) if len(y_vals) != 0]\n",
    "    y_bin = [np.mean(y_vals) for y_vals in y_bin_list if len(y_vals) != 0]\n",
    "\n",
    "    X_bin = np.array([np.log(x) for x in x_bin]).reshape(-1, 1)\n",
    "    Y_bin = np.array([np.log(y) for y in y_bin]).reshape(-1, 1)\n",
    "    \n",
    "    X = np.log(data.rij)\n",
    "    Y = np.log(data.rescaled_tij)\n",
    "    \n",
    "    df = pd.DataFrame([X, Y]).T\n",
    "    df[\"bin\"] = i\n",
    "    \n",
    "    X_ = sm.add_constant(X)\n",
    "    \n",
    "    if len(X_) > 0:\n",
    "        result = sm.OLS(Y, X_).fit()\n",
    "\n",
    "        a = result.params[1]\n",
    "        b = result.params[0]\n",
    "    else:\n",
    "        a = 0\n",
    "        b = 0\n",
    "    \n",
    "    label = \"Group {0}\".format(i+1)\n",
    "    sns.kdeplot(X, Y, alpha=0.4, cmap=cmaps_bin[n], shade=True, thresh=0.3)\n",
    "    if a != 0:\n",
    "        plt.plot([min(X), max(X)], [a*min(X)+b, a*max(X)+b], c=cmaps_plot[n], ls=\"--\", alpha=0.5, label=label, linewidth=2)\n",
    "\n",
    "plt.xlabel(\"Distance $r_{ij}$ (km)\", fontsize=28)\n",
    "plt.ylabel(\"Rescaled traffic $T_{ij}/T_iT_j$\", fontsize=28)\n",
    "plt.legend(fontsize=18)\n",
    "plt.legend([\"Group {}\".format(i+1) for i in range(0, 10, 2)], fontsize=14)\n",
    "plt.xticks([np.log(2), np.log(3), np.log(4), np.log(5), np.log(6), np.log(7), np.log(8), np.log(9), np.log(10), np.log(20), np.log(30), np.log(40)], [\"2\", \"\", \"4\", \"\", \"6\", \"\", \"8\", \"\", \"10\", \"20\", \"\", \"40\"], fontsize=24)\n",
    "plt.yticks([np.log(0.01), np.log(0.001), np.log(0.002), np.log(0.003), np.log(0.004), np.log(0.005), np.log(0.006), np.log(0.007), np.log(0.008), np.log(0.009), np.log(0.0001), np.log(0.0002), np.log(0.0003), np.log(0.0004), np.log(0.0005), np.log(0.0006), np.log(0.0007), np.log(0.0008), np.log(0.0009), np.log(0.00009), np.log(0.00008), np.log(0.00007), np.log(0.00006), np.log(0.00005)], [\"$10^{-2}$\", \"$10^{-3}$\", \"\", \"\", \"\", \"\", \"\", \"\", \"\", \"\", \"$10^{-4}$\", \"\", \"\", \"\", \"\", \"\", \"\", \"\", \"\", \"\", \"\", \"\", \"\", \"\"], fontsize=24)\n",
    "plt.ylim([-10, -5.5])\n",
    "\n",
    "plt.show()"
   ]
  },
  {
   "cell_type": "markdown",
   "metadata": {},
   "source": [
    "### Figure 2, 5, 6"
   ]
  },
  {
   "cell_type": "code",
   "execution_count": null,
   "metadata": {},
   "outputs": [],
   "source": [
    "plt.rcParams['font.family'] = 'Arial'\n",
    "\n",
    "data_cols = [\"gamma\", \"rsq\", \"dist_avg\", \"dist_var\", \"dist_fra\"]\n",
    "\n",
    "figures = {col: plt.subplots(nrows=3, ncols=4, figsize=(40, 21)) for col in data_cols}\n",
    "\n",
    "df_data = pd.DataFrame()\n",
    "\n",
    "for i, city in enumerate(cities):\n",
    "    print(city)\n",
    "    model = gm.gravity_model(data_dir, country, city, cost=\"rij\")\n",
    "    model.exponent_matrix(rmin=1, rmax=50, mbins=1)\n",
    "    \n",
    "    mono_data = {col: model.matrix[col][0][0] for col in data_cols}\n",
    "    \n",
    "    model.exponent_matrix(rmin=1, rmax=50, mbins=10)\n",
    "\n",
    "    for col in data_cols:\n",
    "        model.plot_matrix(figures[col][0], figures[col][1][int(i/4)][i%4], param=col, ref=mono_data[col])\n",
    "\n",
    "for f in figures.values():\n",
    "    f[0].show()"
   ]
  },
  {
   "cell_type": "code",
   "execution_count": null,
   "metadata": {},
   "outputs": [],
   "source": []
  }
 ],
 "metadata": {
  "kernelspec": {
   "display_name": "Python 3",
   "language": "python",
   "name": "python3"
  },
  "language_info": {
   "codemirror_mode": {
    "name": "ipython",
    "version": 3
   },
   "file_extension": ".py",
   "mimetype": "text/x-python",
   "name": "python",
   "nbconvert_exporter": "python",
   "pygments_lexer": "ipython3",
   "version": "3.6.8"
  }
 },
 "nbformat": 4,
 "nbformat_minor": 4
}
